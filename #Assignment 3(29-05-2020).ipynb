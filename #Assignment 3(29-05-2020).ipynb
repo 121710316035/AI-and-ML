{
 "cells": [
  {
   "cell_type": "markdown",
   "metadata": {},
   "source": [
    "     CSE-121710316035-M.Vineetha"
   ]
  },
  {
   "cell_type": "code",
   "execution_count": 2,
   "metadata": {},
   "outputs": [
    {
     "name": "stdout",
     "output_type": "stream",
     "text": [
      "enter a number:5\n",
      "120\n"
     ]
    }
   ],
   "source": [
    "#answer 1\n",
    "\n",
    "def factorial(n):\n",
    "    if n == 1:\n",
    "        return n\n",
    "    else:\n",
    "        return n * factorial(n-1)\n",
    "n = int(input(\"enter a number:\"))\n",
    "print(factorial(n))"
   ]
  },
  {
   "cell_type": "code",
   "execution_count": 3,
   "metadata": {},
   "outputs": [
    {
     "name": "stdout",
     "output_type": "stream",
     "text": [
      "enter n5\n",
      "0\n",
      "1\n",
      "1\n",
      "2\n",
      "3\n"
     ]
    }
   ],
   "source": [
    "#answer 2\n",
    "\n",
    "def Fib(n):\n",
    "    if n<=1:\n",
    "        return n\n",
    "    else:\n",
    "        return (Fib(n-1)+Fib(n-2))\n",
    "    \n",
    "n=int(input('enter n'))\n",
    "for i in range(n):\n",
    "        print(Fib(i))"
   ]
  },
  {
   "cell_type": "code",
   "execution_count": 4,
   "metadata": {},
   "outputs": [
    {
     "name": "stdout",
     "output_type": "stream",
     "text": [
      "15\n"
     ]
    }
   ],
   "source": [
    "#answer 3\n",
    "\n",
    "list=[1,2,3,4,5]\n",
    "print(sum(list))"
   ]
  },
  {
   "cell_type": "code",
   "execution_count": 6,
   "metadata": {},
   "outputs": [
    {
     "name": "stdout",
     "output_type": "stream",
     "text": [
      "2\n",
      "4\n"
     ]
    }
   ],
   "source": [
    "#answer 4\n",
    "\n",
    "list=[1,2,3,4,5]\n",
    "\n",
    "for i in list:\n",
    "    if i % 2==0:\n",
    "        print(i)"
   ]
  },
  {
   "cell_type": "code",
   "execution_count": 5,
   "metadata": {},
   "outputs": [
    {
     "name": "stdout",
     "output_type": "stream",
     "text": [
      "1\n",
      "0\n"
     ]
    }
   ],
   "source": [
    "#answer 5\n",
    "\n",
    "list=[1,2,3,4,5]\n",
    "\n",
    "print(min(list))##minimum element\n",
    "print(list.index(min(list)))## index of minimum element"
   ]
  },
  {
   "cell_type": "code",
   "execution_count": 7,
   "metadata": {},
   "outputs": [
    {
     "name": "stdout",
     "output_type": "stream",
     "text": [
      "enter a stringvini\n",
      "not a palindrome\n"
     ]
    }
   ],
   "source": [
    "#answer 6\n",
    "\n",
    "def palindrome(str):\n",
    "    if str==str[::-1]:\n",
    "        return \"palindrome\"\n",
    "    else:\n",
    "        return \"not a palindrome\"\n",
    "str=input(\"enter a string\")\n",
    "print(palindrome(str))"
   ]
  },
  {
   "cell_type": "code",
   "execution_count": 8,
   "metadata": {},
   "outputs": [
    {
     "name": "stdout",
     "output_type": "stream",
     "text": [
      "even count is: 2\n",
      "odd count is: 3\n"
     ]
    }
   ],
   "source": [
    "#answer 7\n",
    "\n",
    "list=[1,2,3,4,5]\n",
    "\n",
    "evencount=0\n",
    "oddcount=0\n",
    "for num in list:\n",
    "    if num%2==0:\n",
    "        evencount+=1\n",
    "    else:\n",
    "        oddcount+=1\n",
    "print(\"even count is:\",evencount)\n",
    "print(\"odd count is:\",oddcount)"
   ]
  },
  {
   "cell_type": "code",
   "execution_count": 9,
   "metadata": {},
   "outputs": [
    {
     "name": "stdout",
     "output_type": "stream",
     "text": [
      "0\n",
      "1\n",
      "2\n",
      "4\n",
      "5\n"
     ]
    }
   ],
   "source": [
    "#answer 8\n",
    "\n",
    "for x in range(0,7):\n",
    "    if x ==3 or x==6:\n",
    "        continue\n",
    "    print(x)"
   ]
  },
  {
   "cell_type": "code",
   "execution_count": 12,
   "metadata": {},
   "outputs": [
    {
     "name": "stdout",
     "output_type": "stream",
     "text": [
      "enter n4\n",
      "not a prime\n"
     ]
    }
   ],
   "source": [
    "#answer 9\n",
    "def prime(n):\n",
    "    count=0\n",
    "    for i in range(2,n+1):\n",
    "        if n%i==0:\n",
    "            count+=1\n",
    "    if count==1:\n",
    "        return \"prime\"\n",
    "    else:\n",
    "        return \"not a prime\"\n",
    "    \n",
    "n=int(input(\"enter n\"))\n",
    "print(prime(n))\n"
   ]
  },
  {
   "cell_type": "code",
   "execution_count": 1,
   "metadata": {},
   "outputs": [
    {
     "name": "stdout",
     "output_type": "stream",
     "text": [
      "enter a number12\n",
      "The given number is Adam\n"
     ]
    }
   ],
   "source": [
    "#answer 10\n",
    "\n",
    "def Adam(n):\n",
    "    if int(str(n**2)[::-1]) == int(str(n)[::-1])**2:\n",
    "        return True\n",
    "    else:\n",
    "        return False\n",
    "value = int(input(\"enter a number\"))\n",
    "if Adam(value):\n",
    "    print(\"The given number is Adam\")\n",
    "else:\n",
    "    print(\"The given number is not an Adam\")\n",
    "           "
   ]
  },
  {
   "cell_type": "code",
   "execution_count": null,
   "metadata": {},
   "outputs": [],
   "source": []
  }
 ],
 "metadata": {
  "kernelspec": {
   "display_name": "Python 3",
   "language": "python",
   "name": "python3"
  },
  "language_info": {
   "codemirror_mode": {
    "name": "ipython",
    "version": 3
   },
   "file_extension": ".py",
   "mimetype": "text/x-python",
   "name": "python",
   "nbconvert_exporter": "python",
   "pygments_lexer": "ipython3",
   "version": "3.7.4"
  }
 },
 "nbformat": 4,
 "nbformat_minor": 2
}
