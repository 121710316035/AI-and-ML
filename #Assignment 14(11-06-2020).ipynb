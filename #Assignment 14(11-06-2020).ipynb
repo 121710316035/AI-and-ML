{
 "cells": [
  {
   "cell_type": "markdown",
   "metadata": {},
   "source": [
    "CSE-121710316035-M.Vineetha"
   ]
  },
  {
   "cell_type": "markdown",
   "metadata": {},
   "source": [
    "Question 1: https://www.codechef.com/problems/RECNDSTR Chef has a string $S$ consisting of lowercase English characters. Chef defined functions left shift $L(X)$ and right shift $R(X)$ as follows. $L(X)$ is defined as shifting all characters of string $X$ one step towards the left and moving the first character to the end. $R(X)$ is defined as shifting all characters of string $X$ one step towards the right and moving the last character to the beginning. For example, L(\\\"abcd\\\") = \\\"bcda\\\" and R(\\\"abcd\\\") = \\\"dabc\\\" Chef wants to find out whether there exists a string $V$ of the same length as $S$ such that both $L(V) = S$ and $R(V) = S$ holds.\\n\","
   ]
  },
  {
   "cell_type": "markdown",
   "metadata": {},
   "source": [
    "\"Input: The first line of the input contains a single integer $T$ denoting the number of test cases. The description of $T$ test cases follows. The first line of each test case contains a string $S$. "
   ]
  },
  {
   "cell_type": "markdown",
   "metadata": {},
   "source": [
    " Output: For each test case, If there exists a valid string $V$, print \\\"YES\\\", otherwise print \\\"NO\\\" (without the quotes). Sample Input: 4 a ab abcd aaaaa Sample Output: YES YES NO YES\""
   ]
  },
  {
   "cell_type": "markdown",
   "metadata": {},
   "source": [
    "outputs\": [\n",
    "    {\n",
    "     \"name\": \"stdout\",\n",
    "     \"output_type\": \"stream\",\n",
    "     \"text\": [\n",
    "      \"4\\n\",\n",
    "      \"a\\n\",\n",
    "      \"ab\\n\",\n",
    "      \"abxd\\n\",\n",
    "      \"aaaa\\n\",\n",
    "      \"YES\\n\",\n",
    "      \"YES\\n\",\n",
    "      \"NO\\n\",\n",
    "      \"YES\\n\"\n",
    "     ]\n",
    "    }\n",
    "   ],"
   ]
  },
  {
   "cell_type": "code",
   "execution_count": null,
   "metadata": {},
   "outputs": [],
   "source": [
    " \"source\": [\n",
    "    \"def L(x):\\n\",\n",
    "    \"    return x[1:]+x[0]\\n\",\n",
    "    \"def R(x):\\n\",\n",
    "    \"    return x[len(x)-1]+x[0:len(x)-1]\\n\",\n",
    "    \"t=int(input())\\n\",\n",
    "    \"list1=[input() for i in range(t)]\\n\",\n",
    "    \"for i in list1:\\n\",\n",
    "    \"    print(\\\"YES\\\") if L(i) == R(i) else print(\\\"NO\\\")\"\n",
    "   ]\n",
    "  },\n",
    "  {\n",
    "   \"cell_type\": \"markdown\",\n",
    "   \"metadata\": {},\n",
    "   \"source\": ["
   ]
  },
  {
   "cell_type": "markdown",
   "metadata": {},
   "source": [
    "Question 2: https://www.hackerrank.com/challenges/beautiful-days-at-the-movies/problem\""
   ]
  },
  {
   "cell_type": "markdown",
   "metadata": {},
   "source": [
    "\"outputs\": [\n",
    "    {\n",
    "     \"name\": \"stdout\",\n",
    "     \"output_type\": \"stream\",\n",
    "     \"text\": [\n",
    "      \"20 23 6\\n\",\n",
    "      \"2\\n\"\n",
    "     ]\n",
    "    }\n",
    "   ],"
   ]
  },
  {
   "cell_type": "code",
   "execution_count": null,
   "metadata": {},
   "outputs": [],
   "source": [
    " \"source\": [\n",
    "    \"i,j,k=map(int,input().split())\\n\",\n",
    "    \"c=0\\n\",\n",
    "    \"for n in range(i,j+1):\\n\",\n",
    "    \"    if((n-int(str(n)[::-1]))%2==0):\\n\",\n",
    "    \"        c+=1\\n\",\n",
    "    \"print(c)\"\n",
    "   ]\n",
    "  },\n",
    "  {\n",
    "   \"cell_type\": \"markdown\",\n",
    "   \"metadata\": {},\n",
    "   \"source\": ["
   ]
  },
  {
   "cell_type": "markdown",
   "metadata": {},
   "source": [
    "\"Question 3: https://www.hackerrank.com/challenges/birthday-cake-candles/problem\""
   ]
  },
  {
   "cell_type": "markdown",
   "metadata": {},
   "source": [
    " \"outputs\": [\n",
    "    {\n",
    "     \"name\": \"stdout\",\n",
    "     \"output_type\": \"stream\",\n",
    "     \"text\": [\n",
    "      \"4\\n\",\n",
    "      \"3 2 1 3\\n\",\n",
    "      \"2\\n\"\n",
    "     ]\n",
    "    }\n",
    "   ],"
   ]
  },
  {
   "cell_type": "code",
   "execution_count": null,
   "metadata": {},
   "outputs": [],
   "source": [
    "source\": [\n",
    "    \"n=int(input())\\n\",\n",
    "    \"a=list(map(int,input().split()))\\n\",\n",
    "    \"print(a.count(max(a)))\"\n",
    "   ]"
   ]
  },
  {
   "cell_type": "markdown",
   "metadata": {},
   "source": [
    "  \"Question 4: (InfyTQ) Consider a non-empty array inarr containing non-zero positive single digit integers separated by “,” (comma).Print a string based on the below logic: From all possible unique three digit number combinations with the elements of inarr Identify the maximum number maxnum among the three digit combinations formed. Print the maxnum followed by the total number of unique digit combinations formed,separating them with a “,” (comma) Assumption: inarr will contain at least 3 elements Note : An element present at a particular index should not be considered more than once while forming a combination. Input format: Read the array inarr from the standard input stream Output format: Print the output to the standard output stream\\n\","
   ]
  },
  {
   "cell_type": "markdown",
   "metadata": {},
   "source": [
    "\"Sample Input : 1,2,1 Sample Output: 211,3\\n\","
   ]
  },
  {
   "cell_type": "markdown",
   "metadata": {},
   "source": [
    "\"Sample Input:1,2,1,4 Sample output:4211,12\""
   ]
  },
  {
   "cell_type": "markdown",
   "metadata": {},
   "source": [
    " \"output_type\": \"stream\",\n",
    "     \"text\": [\n",
    "      \"1,2,1\\n\",\n",
    "      \"211,3\\n\""
   ]
  },
  {
   "cell_type": "code",
   "execution_count": null,
   "metadata": {},
   "outputs": [],
   "source": [
    "  \"source\": [\n",
    "    \"import itertools as it\\n\",\n",
    "    \"a=list(map(str,input().split(',')))\\n\",\n",
    "    \"p = it.permutations(a, 3)\\n\",\n",
    "    \"x = list(set(p))               \\n\",\n",
    "    \"l = []\\n\",\n",
    "    \"for i in x:                          \\n\",\n",
    "    \"    p = ''.join(i)                   \\n\",\n",
    "    \"    l.append(int(p))\\n\",\n",
    "    \"l.sort()\\n\",\n",
    "    \"print(str(l[-1])+','+str(len(l)))\"\n",
    "   ]\n",
    "  },\n",
    "  {\n",
    "   \"cell_type\": \"markdown\",\n",
    "   \"metadata\": {},\n",
    "   \"source\": ["
   ]
  },
  {
   "cell_type": "markdown",
   "metadata": {},
   "source": [
    "  \"Question 5:(InfyTQ) For a given positive number num,identify the palindrome formed by performing the following operations Add num and its reverse Check whether the sum is palindrome or not.If not,add the sum and its reverse and repeat the process until a palindrome is obtained. Input format : Read num from the standard input stream Output format: print the palindrome calculated to the standard output stream\\n\","
   ]
  },
  {
   "cell_type": "markdown",
   "metadata": {},
   "source": [
    "\"Sample input : 124 Sample Output : 545\\n\","
   ]
  },
  {
   "cell_type": "markdown",
   "metadata": {},
   "source": [
    " \"Sample input:195 Sample output: 9339\""
   ]
  },
  {
   "cell_type": "markdown",
   "metadata": {},
   "source": [
    " \"outputs\": [\n",
    "    {\n",
    "     \"name\": \"stdout\",\n",
    "     \"output_type\": \"stream\",\n",
    "     \"text\": [\n",
    "      \"124\\n\",\n",
    "      \"545\\n\""
   ]
  },
  {
   "cell_type": "code",
   "execution_count": null,
   "metadata": {},
   "outputs": [],
   "source": [
    "\"source\": [\n",
    "    \"n=int(input())\\n\",\n",
    "    \"while(True):\\n\",\n",
    "    \"    n=str(n)\\n\",\n",
    "    \"    if(n ==n[::-1]):\\n\",\n",
    "    \"        print(n)\\n\",\n",
    "    \"        break\\n\",\n",
    "    \"    else:\\n\",\n",
    "    \"        n=int(n)+int(n[::-1])\"\n",
    "   ]"
   ]
  },
  {
   "cell_type": "markdown",
   "metadata": {},
   "source": [
    " \"Question 6: https://www.codechef.com/problems/SLAEL Find the length of the longest contiguous segment in an array, in which if a given element K K is inserted, K K becomes the second largest element of that subarray. Input: The first line will contain T, number of test cases. Then the test cases follow. The first line of each test case contains two integers N and K The next line contains N space-separated integers Ai denoting the elements of the array."
   ]
  },
  {
   "cell_type": "markdown",
   "metadata": {},
   "source": [
    " Output: Print a single line corresponding to each test case — the length of the largest segment.\""
   ]
  },
  {
   "cell_type": "markdown",
   "metadata": {},
   "source": [
    "\"outputs\": [\n",
    "    {\n",
    "     \"name\": \"stdout\",\n",
    "     \"output_type\": \"stream\",\n",
    "     \"text\": [\n",
    "      \"2\\n\",\n",
    "      \"5 3\\n\",\n",
    "      \"2 4 2 4 2 \\n\",\n",
    "      \"output:\\n\",\n",
    "      \" 5 \\n\",\n",
    "      \"\\n\"\n",
    "     ]\n",
    "    }\n",
    "   ],"
   ]
  },
  {
   "cell_type": "code",
   "execution_count": null,
   "metadata": {},
   "outputs": [],
   "source": [
    "\"source\": [\n",
    "    \"t=int(input())\\n\",\n",
    "    \"while(t>0):\\n\",\n",
    "    \"    n,k=map(int,input().split())\\n\",\n",
    "    \"    a=list(map(int,input().split()))\\n\",\n",
    "    \"    gre=0\\n\",\n",
    "    \"    l=0\\n\",\n",
    "    \"    pos=-1\\n\",\n",
    "    \"    long=0\\n\",\n",
    "    \"    for i in range(n):\\n\",\n",
    "    \"        if a[i]>k and gre!=0 and a[i]!=gre:\\n\",\n",
    "    \"            gre = a[i]\\n\",\n",
    "    \"            if long<l:\\n\",\n",
    "    \"                long=l\\n\",\n",
    "    \"            l = i - pos\\n\",\n",
    "    \"            pos=i\\n\",\n",
    "    \"            continue\\n\",\n",
    "    \"        elif a[i]>k:\\n\",\n",
    "    \"            gre = a[i]\\n\",\n",
    "    \"            pos=i\\n\",\n",
    "    \"        l+=1\\n\",\n",
    "    \"    if long<l:\\n\",\n",
    "    \"        long=l\\n\",\n",
    "    \"    t-=1\\n\",\n",
    "    \"    print(\\\"output:\\\\n\\\",long,\\\"\\\\n\\\")\"\n",
    "   ]\n",
    "  },\n",
    "  {\n",
    "   \"cell_type\": \"code\",\n",
    "   \"execution_count\": null,\n",
    "   \"metadata\": {},\n",
    "   \"outputs\": [],\n",
    "   \"source\": []\n",
    "  }\n",
    " ],\n",
    " \"metadata\": {\n",
    "  \"kernelspec\": {\n",
    "   \"display_name\": \"Python 3\",\n",
    "   \"language\": \"python\",\n",
    "   \"name\": \"python3\"\n",
    "  },\n",
    "  \"language_info\": {\n",
    "   \"codemirror_mode\": {\n",
    "    \"name\": \"ipython\",\n",
    "    \"version\": 3\n",
    "   },\n",
    "   \"file_extension\": \".py\",\n",
    "   \"mimetype\": \"text/x-python\",\n",
    "   \"name\": \"python\",\n",
    "   \"nbconvert_exporter\": \"python\",\n",
    "   \"pygments_lexer\": \"ipython3\",\n",
    "   \"version\": \"3.7.1\"\n",
    "  }\n",
    " },\n",
    " \"nbformat\": 4,\n",
    " \"nbformat_minor\": 2\n",
    "}\n",
    "\n"
   ]
  }
 ],
 "metadata": {
  "kernelspec": {
   "display_name": "Python 3",
   "language": "python",
   "name": "python3"
  },
  "language_info": {
   "codemirror_mode": {
    "name": "ipython",
    "version": 3
   },
   "file_extension": ".py",
   "mimetype": "text/x-python",
   "name": "python",
   "nbconvert_exporter": "python",
   "pygments_lexer": "ipython3",
   "version": "3.7.4"
  }
 },
 "nbformat": 4,
 "nbformat_minor": 2
}
