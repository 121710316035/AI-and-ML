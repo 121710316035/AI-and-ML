{
 "cells": [
  {
   "cell_type": "markdown",
   "metadata": {},
   "source": [
    "CSE-121710316035-M.Vineetha"
   ]
  },
  {
   "cell_type": "markdown",
   "metadata": {},
   "source": [
    " https://www.codechef.com/problems/RECNDSTR Chef has a string  𝑆  consisting of lowercase English characters. Chef defined functions left shift  𝐿(𝑋)  and right shift  𝑅(𝑋)  as follows.  𝐿(𝑋)  is defined as shifting all characters of string  𝑋  one step towards the left and moving the first character to the end.  𝑅(𝑋)  is defined as shifting all characters of string  𝑋  one step towards the right and moving the last character to the beginning. For example, L(\\\"abcd\\\") = \\\"bcda\\\" and R(\\\"abcd\\\") = \\\"dabc\\\" Chef wants to find out whether there exists a string  𝑉  of the same length as  𝑆  such that both  𝐿(𝑉)=𝑆  and  𝑅(𝑉)=𝑆  holds.\\n"
   ]
  },
  {
   "cell_type": "markdown",
   "metadata": {},
   "source": [
    "Input: The first line of the input contains a single integer  𝑇  denoting the number of test cases. The description of  𝑇  test cases follows. The first line of each test case contains a string  𝑆 . Output: For each test case, If there exists a valid string  𝑉 , print \\\"YES\\\", otherwise print \\\"NO\\\" (without the quotes). Sample Input: 4 a ab abcd aaaaa Sample Output: YES YES NO YES\""
   ]
  },
  {
   "cell_type": "markdown",
   "metadata": {},
   "source": [
    "output_type\": \"stream\",\n",
    "     \"text\": [\n",
    "      \"4\\n\",\n",
    "      \"a\\n\",\n",
    "      \"ab\\n\",\n",
    "      \"abcd\\n\",\n",
    "      \"aaaa\\n\",\n",
    "      \"YES\\n\",\n",
    "      \"YES\\n\",\n",
    "      \"NO\\n\",\n",
    "      \"YES\\n\"\n",
    "     ]"
   ]
  },
  {
   "cell_type": "code",
   "execution_count": 2,
   "metadata": {},
   "outputs": [
    {
     "data": {
      "text/plain": [
       "['def L(x):\\n',\n",
       " '    return x[1:]+x[0]\\n',\n",
       " 'def R(x):\\n',\n",
       " '    return x[len(x)-1]+x[0:len(x)-1]\\n',\n",
       " 't=int(input())\\n',\n",
       " 'list1=[input() for i in range(t)]\\n',\n",
       " 'for i in list1:\\n',\n",
       " '    print(\"YES\") if L(i) == R(i) else print(\"NO\")']"
      ]
     },
     "execution_count": 2,
     "metadata": {},
     "output_type": "execute_result"
    }
   ],
   "source": [
    "[\n",
    "    \"def L(x):\\n\",\n",
    "    \"    return x[1:]+x[0]\\n\",\n",
    "    \"def R(x):\\n\",\n",
    "    \"    return x[len(x)-1]+x[0:len(x)-1]\\n\",\n",
    "    \"t=int(input())\\n\",\n",
    "    \"list1=[input() for i in range(t)]\\n\",\n",
    "    \"for i in list1:\\n\",\n",
    "    \"    print(\\\"YES\\\") if L(i) == R(i) else print(\\\"NO\\\")\"\n",
    "   ]"
   ]
  },
  {
   "cell_type": "markdown",
   "metadata": {},
   "source": [
    "question 2\n",
    "    \"https://www.hackerrank.com/challenges/beautiful-days-at-the-movies/problem\"\n"
   ]
  },
  {
   "cell_type": "markdown",
   "metadata": {},
   "source": [
    "\"output_type\": \"stream\",\n",
    "     \"text\": [\n",
    "      \"20 23 6\\n\",\n",
    "      \"2\\n\""
   ]
  },
  {
   "cell_type": "code",
   "execution_count": 3,
   "metadata": {},
   "outputs": [
    {
     "data": {
      "text/plain": [
       "'print(c)'"
      ]
     },
     "execution_count": 3,
     "metadata": {},
     "output_type": "execute_result"
    }
   ],
   "source": [
    "\n",
    "    \"i,j,k=map(int,input().split())\\n\",\n",
    "    \"c=0\\n\",\n",
    "    \"for n in range(i,j+1):\\n\",\n",
    "    \"    if((n-int(str(n)[::-1]))%2==0):\\n\",\n",
    "    \"        c+=1\\n\",\n",
    "    \"print(c)\"\n",
    "   "
   ]
  },
  {
   "cell_type": "markdown",
   "metadata": {},
   "source": [
    " \"**question 3**\\n\",\n",
    "    \"\\n\",\n",
    "    \" https://www.hackerrank.com/challenges/birthday-cake-candles/problem\"\n",
    "   ]"
   ]
  },
  {
   "cell_type": "markdown",
   "metadata": {},
   "source": [
    "\"outputs:\n",
    "      \"4\\n\",\n",
    "      \"3 2 1 3\\n\",\n",
    "      \"2\\n\"\n",
    "     "
   ]
  },
  {
   "cell_type": "code",
   "execution_count": 4,
   "metadata": {},
   "outputs": [
    {
     "data": {
      "text/plain": [
       "'print(V.count(max(V)))'"
      ]
     },
     "execution_count": 4,
     "metadata": {},
     "output_type": "execute_result"
    }
   ],
   "source": [
    "    \"N=int(input())\\n\",\n",
    "    \"V=list(map(int,input().split()))\\n\",\n",
    "    \"print(V.count(max(V)))\"\n",
    "   \n"
   ]
  },
  {
   "cell_type": "markdown",
   "metadata": {},
   "source": [
    "    \"**question 4**\\n\",\n",
    "    \"\\n\",\n",
    "    \"(InfyTQ) Consider a non-empty array inarr containing non-zero positive single digit integers separated by “,” (comma).Print a string based on the below logic: From all possible unique three digit number combinations with the elements of inarr Identify the maximum number maxnum among the three digit combinations formed. Print the maxnum followed by the total number of unique digit combinations formed,separating them with a “,” (comma) Assumption: inarr will contain at least 3 elements Note : An element present at a particular index should not be considered more than once while forming a combination. Input format: Read the array inarr from the standard input stream Output format: Print the output to the standard output stream\\n\",\n"
   ]
  },
  {
   "cell_type": "markdown",
   "metadata": {},
   "source": [
    "    \"Sample Input : 1,2,1 Sample Output: 211,3\\n\",\n",
    "    \"\\n\",\n",
    "    \"Sample Input:1,2,1,4 Sample output:4211,12\"\n"
   ]
  },
  {
   "cell_type": "markdown",
   "metadata": {},
   "source": [
    "     \"output_type\": \"stream\",\n",
    "     \"text\": \n",
    "      \"1,2,1\\n\",\n",
    "      \"211,3\\n\"\n"
   ]
  },
  {
   "cell_type": "code",
   "execution_count": 5,
   "metadata": {},
   "outputs": [
    {
     "data": {
      "text/plain": [
       "\"print(str(l[-1])+','+str(len(l)))\""
      ]
     },
     "execution_count": 5,
     "metadata": {},
     "output_type": "execute_result"
    }
   ],
   "source": [
    "\n",
    "    \"import itertools as it\\n\",\n",
    "    \"a=list(map(str,input().split(',')))\\n\",\n",
    "    \"p = it.permutations(a, 3)\\n\",\n",
    "    \"x = list(set(p))               \\n\",\n",
    "    \"l = []\\n\",\n",
    "    \"for i in x:                          \\n\",\n",
    "    \"    p = ''.join(i)                   \\n\",\n",
    "    \"    l.append(int(p))\\n\",\n",
    "    \"l.sort()\\n\",\n",
    "    \"print(str(l[-1])+','+str(len(l)))\"\n"
   ]
  },
  {
   "cell_type": "markdown",
   "metadata": {},
   "source": [
    "  \"**question 5**\\n\",\n",
    "    \"\\n\",\n",
    "    \"(InfyTQ) For a given positive number num,identify the palindrome formed by performing the following operations Add num and its reverse Check whether the sum is palindrome or not.If not,add the sum and its reverse and repeat the process until a palindrome is obtained. Input format : Read num from the standard input stream Output format: print the palindrome calculated to the standard output stream\\n\",\n",
    "    \"\\n\",\n",
    "    \"Sample input : 124 Sample Output : 545\\n\",\n",
    "    \"\\n\",\n",
    "    \"Sample input:195 Sample output: 9339\""
   ]
  },
  {
   "cell_type": "markdown",
   "metadata": {},
   "source": [
    "\"output_type\": \"stream\",\n",
    "     \"text\": [\n",
    "      \"124\\n\",\n",
    "      \"545\\n\""
   ]
  },
  {
   "cell_type": "markdown",
   "metadata": {},
   "source": []
  },
  {
   "cell_type": "code",
   "execution_count": null,
   "metadata": {},
   "outputs": [],
   "source": [
    "\n",
    "    \"n=int(input())\\n\",\n",
    "    \"while(True):\\n\",\n",
    "    \"    n=str(n)\\n\",\n",
    "    \"    if(n ==n[::-1]):\\n\",\n",
    "    \"        print(n)\\n\",\n",
    "    \"        break\\n\",\n",
    "    \"    else:\\n\",\n",
    "    \"        n=int(n)+int(n[::-1])\""
   ]
  },
  {
   "cell_type": "markdown",
   "metadata": {},
   "source": [
    " \"**question 6**\\n\",\n",
    "    \" https://www.codechef.com/problems/SLAEL Find the length of the longest contiguous segment in an array, in which if a given element K K is inserted, K K becomes the second largest element of that subarray. Input: The first line will contain T, number of test cases. Then the test cases follow. The first line of each test case contains two integers N and K The next line contains N space-separated integers Ai denoting the elements of the array. Output: Print a single line corresponding to each test case — the length of the largest segment.\""
   ]
  },
  {
   "cell_type": "code",
   "execution_count": null,
   "metadata": {},
   "outputs": [],
   "source": [
    " \"t=int(input())\\n\",\n",
    "    \"while(t>0):\\n\",\n",
    "    \"    n,k=map(int,input().split())\\n\",\n",
    "    \"    a=list(map(int,input().split()))\\n\",\n",
    "    \"    gre=0\\n\",\n",
    "    \"    l=0\\n\",\n",
    "    \"    pos=-1\\n\",\n",
    "    \"    long=0\\n\",\n",
    "    \"    for i in range(n):\\n\",\n",
    "    \"        if a[i]>k and gre!=0 and a[i]!=gre:\\n\",\n",
    "    \"            gre = a[i]\\n\",\n",
    "    \"            if long<l:\\n\",\n",
    "    \"                long=l\\n\",\n",
    "    \"            l = i - pos\\n\",\n",
    "    \"            pos=i\\n\",\n",
    "    \"            continue\\n\",\n",
    "    \"        elif a[i]>k:\\n\",\n",
    "    \"            gre = a[i]\\n\",\n",
    "    \"            pos=i\\n\",\n",
    "    \"        l+=1\\n\",\n",
    "    \"    if long<l:\\n\",\n",
    "    \"        long=l\\n\",\n",
    "    \"    t-=1\\n\",\n",
    "    \"    print(\\\"output:\\\\n\\\",long,\\\"\\\\n\\\")\""
   ]
  },
  {
   "cell_type": "markdown",
   "metadata": {},
   "source": [
    " \"**Question 7**\\n\",\n",
    "    \"\\n\",\n",
    "    \"Input string : \\\"xyz:750,abc:265,qwerty:195\\\" Output string : abc\""
   ]
  },
  {
   "cell_type": "markdown",
   "metadata": {},
   "source": [
    "\"outputs\": [\n",
    "    {\n",
    "     \"name\": \"stdout\",\n",
    "     \"output_type\": \"stream\",\n",
    "     \"text\": [\n",
    "      \"xyz:750,abc:265,qwerty:195\\n\"\n",
    "     ]"
   ]
  },
  {
   "cell_type": "code",
   "execution_count": null,
   "metadata": {},
   "outputs": [],
   "source": [
    "  \"s = input()\\n\",\n",
    "    \"list1 = s.split(\\\",\\\")\\n\",\n",
    "    \"list2 = [i.split(\\\":\\\")[1] for i in list1]\\n\",\n",
    "    \"list3 = []\\n\",\n",
    "    \"for num in list2:\\n\",\n",
    "    \"    n = int(num)\\n\",\n",
    "    \"    rev = num[::-1]\\n\",\n",
    "    \"    while str(n) != rev:\\n\",\n",
    "    \"        n +=int(rev)\\n\",\n",
    "    \"        rev = str(n)[::-1]\\n\",\n",
    "    \"    list3.append(n)\\n\",\n",
    "    \"list1[list3.index(max(list3))].split(\\\":\\\")[0]\""
   ]
  },
  {
   "cell_type": "markdown",
   "metadata": {},
   "source": [
    "  \"**question 8**\\n\",\n",
    "    \"\\n\",\n",
    "    \"The groups_per_user function receives a dictionary.which contains group names with the list of users.Users can belong to multiple groups.Return a dictionary with the users as keys and a list of their groups as values.\\n\",\n",
    "    \"\\n\",\n",
    "    \"Input : {\\\"local\\\":[\\\"admin\\\",\\\"userA\\\"],\\\"public\\\":[\\\"admin\\\",\\\"userB\\\"],\\\"administrator\\\":[\\\"admin\\\"]} Output : {'admin': ['local', 'public', 'administrator'], 'userA': ['local'], 'userB': ['public']}\""
   ]
  },
  {
   "cell_type": "markdown",
   "metadata": {},
   "source": [
    "  \"output_type\": \"stream\",\n",
    "     \"text\": [\n",
    "      \"{'admin': ['local', 'public', 'administrator'], 'userA': ['local'], 'userB': ['public']}\\n\""
   ]
  },
  {
   "cell_type": "code",
   "execution_count": null,
   "metadata": {},
   "outputs": [],
   "source": [
    "def groups_per_user(group_dictionary):\\n\",\n",
    "    \"    user_groups = {}\\n\",\n",
    "    \"    for group in group_dictionary:\\n\",\n",
    "    \"        for user in group_dictionary[group]:\\n\",\n",
    "    \"            if user not in user_groups:\\n\",\n",
    "    \"                user_groups[user] = []\\n\",\n",
    "    \"            if group not in user_groups[user]:\\n\",\n",
    "    \"                user_groups[user].append(group)\\n\",\n",
    "    \"    return user_groups\\n\",\n",
    "    \"\\n\",\n",
    "    \"mylist = {\\\"local\\\": [\\\"admin\\\", \\\"userA\\\"],\\n\",\n",
    "    \"          \\\"public\\\":  [\\\"admin\\\", \\\"userB\\\"],\\n\",\n",
    "    \"          \\\"administrator\\\": [\\\"admin\\\"] }\\n\",\n",
    "    \"\\n\",\n",
    "    \"print(groups_per_user(mylist))\"\n",
    "   ]"
   ]
  },
  {
   "cell_type": "markdown",
   "metadata": {},
   "source": [
    "**question9**\"\n",
    "   ]\n",
    "  },\n",
    "  {\n",
    "   \"cell_type\": \"code\",\n",
    "   \"execution_count\": 1,\n",
    "   \"metadata\": {},\n",
    "   \"outputs\": [\n",
    "    {\n",
    "     \"name\": \"stdout\",\n",
    "     \"output_type\": \"stream\",\n",
    "     \"text\": [\n",
    "      \"london 40000 12,chicago 60000 20,munich 50000 15,paris 70000 5\\n\",\n",
    "      \"['london 40000 12', 'chicago 60000 20', 'munich 50000 15', 'paris 70000 5']\\n\",\n",
    "      \"paris munich \""
   ]
  },
  {
   "cell_type": "code",
   "execution_count": null,
   "metadata": {},
   "outputs": [],
   "source": [
    "\"s=input()\\n\",\n",
    "    \"s1=s.split(',')\\n\",\n",
    "    \"print(s1)\\n\",\n",
    "    \"a={}\\n\",\n",
    "    \"b={}\\n\",\n",
    "    \"al=[]\\n\",\n",
    "    \"bl=[]\\n\",\n",
    "    \"for i in s1:\\n\",\n",
    "    \"    a1=list(i.split())\\n\",\n",
    "    \"    a[a1[0]]=int(a1[1])\\n\",\n",
    "    \"    b[a1[0]]=int(a1[2])\\n\",\n",
    "    \"a1 = sorted(a.items(), key=lambda x: x[1],reverse=True)\\n\",\n",
    "    \"b1 = sorted(b.items(), key=lambda x: x[1])\\n\",\n",
    "    \"for i in a1:\\n\",\n",
    "    \"    al.append(i[0])\\n\",\n",
    "    \"for i in b1:\\n\",\n",
    "    \"    bl.append(i[0])\\n\",\n",
    "    \"for i in range(0,len(a1)):\\n\",\n",
    "    \"    if(al[i]==bl[i]):\\n\",\n",
    "    \"        print(al[i],end=\\\" \\\")\"\n",
    "   ]\n",
    "  },"
   ]
  },
  {
   "cell_type": "markdown",
   "metadata": {},
   "source": [
    " \"**question10**\"\n",
    "   ]\n",
    "  },\n",
    "  {\n",
    "   \"cell_type\": \"code\",\n",
    "   \"execution_count\": 2,\n",
    "   \"metadata\": {},\n",
    "   \"outputs\": [\n",
    "    {\n",
    "     \"name\": \"stdout\",\n",
    "     \"output_type\": \"stream\",\n",
    "     \"text\": [\n",
    "      \"[(8, 0, 0), (3, 5, 0), (0, 5, 3), (5, 0, 3), (5, 3, 0), (2, 3, 3), (2, 5, 1), (7, 0, 1), (7, 1, 0), (4, 1, 3), (4, 4, 0)]\\n\",\n",
    "      \"11\\n\""
   ]
  },
  {
   "cell_type": "code",
   "execution_count": null,
   "metadata": {},
   "outputs": [],
   "source": [
    "capacity = (8,5,3)\\n\",\n",
    "    \"x = capacity[0]\\n\",\n",
    "    \"y = capacity[1]\\n\",\n",
    "    \"z = capacity[2]\\n\",\n",
    "    \"memory = {}\\n\",\n",
    "    \"ans = []\\n\",\n",
    "    \"\\n\",\n",
    "    \"def get_all_states(state):\\n\",\n",
    "    \"  a = state[0]\\n\",\n",
    "    \"  b = state[1]\\n\",\n",
    "    \"  c = state[2]\\n\",\n",
    "    \"\\n\",\n",
    "    \"  if(a==4 and b==4):\\n\",\n",
    "    \"      ans.append(state)\\n\",\n",
    "    \"      return True\\n\",\n",
    "    \"\\n\",\n",
    "    \"  if((a,b,c) in memory):\\n\",\n",
    "    \"      return False\\n\",\n",
    "    \"\\n\",\n",
    "    \"  memory[(a,b,c)] = 1\\n\",\n",
    "    \"  if(a>0):\\n\",\n",
    "    \"      if(a+b<=y):\\n\",\n",
    "    \"          if( get_all_states((0,a+b,c)) ):\\n\",\n",
    "    \"              ans.append(state)\\n\",\n",
    "    \"              return True\\n\",\n",
    "    \"      else:\\n\",\n",
    "    \"          if( get_all_states((a-(y-b), y, c)) ):\\n\",\n",
    "    \"              ans.append(state)\\n\",\n",
    "    \"              return True\\n\",\n",
    "    \"      if(a+c<=z):\\n\",\n",
    "    \"          if( get_all_states((0,b,a+c)) ):\\n\",\n",
    "    \"              ans.append(state)\\n\",\n",
    "    \"              return True\\n\",\n",
    "    \"      else:\\n\",\n",
    "    \"          if( get_all_states((a-(z-c), b, z)) ):\\n\",\n",
    "    \"              ans.append(state)\\n\",\n",
    "    \"              return True\\n\",\n",
    "    \"  if(b>0):\\n\",\n",
    "    \"      if(a+b<=x):\\n\",\n",
    "    \"          if( get_all_states((a+b, 0, c)) ):\\n\",\n",
    "    \"              ans.append(state)\\n\",\n",
    "    \"              return True\\n\",\n",
    "    \"      else:\\n\",\n",
    "    \"          if( get_all_states((x, b-(x-a), c)) ):\\n\",\n",
    "    \"              ans.append(state)\\n\",\n",
    "    \"              return True\\n\",\n",
    "    \"      if(b+c<=z):\\n\",\n",
    "    \"          if( get_all_states((a, 0, b+c)) ):\\n\",\n",
    "    \"              ans.append(state)\\n\",\n",
    "    \"              return True\\n\",\n",
    "    \"      else:\\n\",\n",
    "    \"          if( get_all_states((a, b-(z-c), z)) ):\\n\",\n",
    "    \"              ans.append(state)\\n\",\n",
    "    \"              return True\\n\",\n",
    "    \"  if(c>0):\\n\",\n",
    "    \"      if(a+c<=x):\\n\",\n",
    "    \"          if( get_all_states((a+c, b, 0)) ):\\n\",\n",
    "    \"              ans.append(state)\\n\",\n",
    "    \"              return True\\n\",\n",
    "    \"      else:\\n\",\n",
    "    \"          if( get_all_states((x, b, c-(x-a))) ):\\n\",\n",
    "    \"              ans.append(state)\\n\",\n",
    "    \"              return True\\n\",\n",
    "    \"      if(b+c<=y):\\n\",\n",
    "    \"          if( get_all_states((a, b+c, 0)) ):\\n\",\n",
    "    \"              ans.append(state)\\n\",\n",
    "    \"              return True\\n\",\n",
    "    \"      else:\\n\",\n",
    "    \"          if( get_all_states((a, y, c-(y-b))) ):\\n\",\n",
    "    \"              ans.append(state)\\n\",\n",
    "    \"              return True\\n\",\n",
    "    \"\\n\",\n",
    "    \"  return False\\n\",\n",
    "    \"\\n\",\n",
    "    \"initial_state = (8,0,0)\\n\",\n",
    "    \"get_all_states(initial_state)\\n\",\n",
    "    \"ans.reverse()\\n\",\n",
    "    \"print(ans)\\n\",\n",
    "    \"print(len(ans))\\n\"\n",
    "   ]"
   ]
  },
  {
   "cell_type": "markdown",
   "metadata": {},
   "source": [
    "question 11**\"\n",
    "   ]\n",
    "  },\n",
    "  {\n",
    "   \"cell_type\": \"code\",\n",
    "   \"execution_count\": 3,\n",
    "   \"metadata\": {},\n",
    "   \"outputs\": [\n",
    "    {\n",
    "     \"name\": \"stdout\",\n",
    "     \"output_type\": \"stream\",\n",
    "     \"text\": [\n",
    "      \"4\\n\",\n",
    "      \"5\\n\"\n",
    "     ]"
   ]
  },
  {
   "cell_type": "code",
   "execution_count": null,
   "metadata": {},
   "outputs": [],
   "source": [
    " \"user_id = [1,1,2,3,3,4,4,4,5,5]\\n\",\n",
    "    \"user = list(set(user_id))\\n\",\n",
    "    \"ancestry=[\\\"England\\\",\\\"Ireland\\\",\\\"France\\\",\\\"Germany\\\",\\\"Poland\\\",\\\"England\\\",\\\"France\\\",\\\"Germany\\\",\\\"France\\\",\\\"Germany\\\"]\\n\",\n",
    "    \"r={}\\n\",\n",
    "    \"for i in range(0,len(user_id)):\\n\",\n",
    "    \"    if(user_id[i] not in r.keys()):\\n\",\n",
    "    \"        r[user_id[i]]=[]\\n\",\n",
    "    \"        r[user_id[i]].append(ancestry[i])\\n\",\n",
    "    \"    else:\\n\",\n",
    "    \"        r[user_id[i]].append(ancestry[i])\\n\",\n",
    "    \"required=['France','Germany']\\n\",\n",
    "    \"for i in range(0,len(user)):\\n\",\n",
    "    \"    if(set(required).issubset(set(r[user[i]]))):\\n\",\n",
    "    \"        print(user[i])\\n\",\n",
    "    \"\\n\"\n",
    "   ]\n",
    "  },\n",
    "  {\n",
    "   \"cell_type\": \"code\",\n",
    "   \"execution_count\": null,\n",
    "   \"metadata\": {},\n",
    "   \"outputs\": [],\n",
    "   \"source\": []\n",
    "  }\n",
    " ],\n",
    " \"metadata\": {\n",
    "  \"kernelspec\": {\n",
    "   \"display_name\": \"Python 3\",\n",
    "   \"language\": \"python\",\n",
    "   \"name\": \"python3\"\n",
    "  },\n",
    "  \"language_info\": {\n",
    "   \"codemirror_mode\": {\n",
    "    \"name\": \"ipython\",\n",
    "    \"version\": 3\n",
    "   },\n",
    "   \"file_extension\": \".py\",\n",
    "   \"mimetype\": \"text/x-python\",\n",
    "   \"name\": \"python\",\n",
    "   \"nbconvert_exporter\": \"python\",\n",
    "   \"pygments_lexer\": \"ipython3\",\n",
    "   \"version\": \"3.7.6\"\n",
    "  }\n",
    " },\n",
    " \"nbformat\": 4,\n",
    " \"nbformat_minor\": 4\n",
    "}\n",
    "\n"
   ]
  }
 ],
 "metadata": {
  "kernelspec": {
   "display_name": "Python 3",
   "language": "python",
   "name": "python3"
  },
  "language_info": {
   "codemirror_mode": {
    "name": "ipython",
    "version": 3
   },
   "file_extension": ".py",
   "mimetype": "text/x-python",
   "name": "python",
   "nbconvert_exporter": "python",
   "pygments_lexer": "ipython3",
   "version": "3.7.4"
  }
 },
 "nbformat": 4,
 "nbformat_minor": 2
}
