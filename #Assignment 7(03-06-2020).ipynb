{
 "cells": [
  {
   "cell_type": "markdown",
   "metadata": {},
   "source": [
    "CSE- 121710316035- M.Vineetha"
   ]
  },
  {
   "cell_type": "code",
   "execution_count": 2,
   "metadata": {},
   "outputs": [
    {
     "name": "stdout",
     "output_type": "stream",
     "text": [
      "Data Science With Python,Advanced Programming,AI and ML,Full Stack Web Development\n"
     ]
    }
   ],
   "source": [
    "#answer 1\n",
    "\n",
    "f =open(\"file1.txt\",\"w\")\n",
    "f.write(\"Data Science With Python,Advanced Programming,AI and ML,Full Stack Web Development\")\n",
    "f.close()\n",
    "\n",
    "f=open(\"file1.txt\",\"r\")\n",
    "data =f.read()\n",
    "print(data)\n",
    "f.close()\n",
    "\n",
    "f=open(\"file2.txt\",\"w\")\n",
    "f.write(data[::-1])\n",
    "f.close()"
   ]
  },
  {
   "cell_type": "code",
   "execution_count": 3,
   "metadata": {},
   "outputs": [
    {
     "name": "stdout",
     "output_type": "stream",
     "text": [
      "Contents of file in order:\n",
      "1.Data Science\n",
      "2.Advanced Programming\n",
      "3.AI and ML\n",
      "4.Full Stack Web Development\n",
      "5.Python Programming\n",
      "6.Summer Internship\n"
     ]
    }
   ],
   "source": [
    "#answer 2\n",
    "\n",
    "L =[\"Data Science\\n\",\"Advanced Programming\\n\",\"AI and ML\\n\",\"Full Stack Web Development\\n\",\"Python Programming\\n\",\"Summer Internship\\n\"]\n",
    "\n",
    "f1 =open(\"myfile.txt\",\"w\")\n",
    "f1.writelines(L)\n",
    "f1.close()\n",
    "\n",
    "f1 =open(\"myfile.txt\",\"r\")\n",
    "count =0\n",
    "\n",
    "print(\"Contents of file in order:\")\n",
    "for line in f1:\n",
    "    count +=1\n",
    "    print(\"{}.{}\".format(count,line.strip()))\n",
    "    \n",
    "f1.close()"
   ]
  },
  {
   "cell_type": "code",
   "execution_count": 4,
   "metadata": {},
   "outputs": [
    {
     "name": "stdout",
     "output_type": "stream",
     "text": [
      "True\n"
     ]
    }
   ],
   "source": [
    "#answer 3\n",
    "\n",
    "\n",
    "def Duplicates(listOfElems):\n",
    "    if len(list1) ==len(set(list1)):\n",
    "        return False\n",
    "    else:\n",
    "        return True\n",
    "list1=[1,2,3,4,2]\n",
    "result=Duplicates(list1)\n",
    "print(result)"
   ]
  },
  {
   "cell_type": "code",
   "execution_count": 15,
   "metadata": {},
   "outputs": [
    {
     "ename": "ModuleNotFoundError",
     "evalue": "No module named 'fra'",
     "output_type": "error",
     "traceback": [
      "\u001b[1;31m---------------------------------------------------------------------------\u001b[0m",
      "\u001b[1;31mModuleNotFoundError\u001b[0m                       Traceback (most recent call last)",
      "\u001b[1;32m<ipython-input-15-6d608ad14a93>\u001b[0m in \u001b[0;36m<module>\u001b[1;34m\u001b[0m\n\u001b[0;32m     22\u001b[0m \u001b[1;31m#    print('Division: ',e4/f4)\u001b[0m\u001b[1;33m\u001b[0m\u001b[1;33m\u001b[0m\u001b[1;33m\u001b[0m\u001b[0m\n\u001b[0;32m     23\u001b[0m \u001b[1;33m\u001b[0m\u001b[0m\n\u001b[1;32m---> 24\u001b[1;33m \u001b[1;32mimport\u001b[0m \u001b[0mfra\u001b[0m \u001b[1;32mas\u001b[0m \u001b[0mf\u001b[0m\u001b[1;33m\u001b[0m\u001b[1;33m\u001b[0m\u001b[0m\n\u001b[0m\u001b[0;32m     25\u001b[0m \u001b[0mf\u001b[0m\u001b[1;33m.\u001b[0m\u001b[0mfr\u001b[0m\u001b[1;33m(\u001b[0m\u001b[1;36m2\u001b[0m\u001b[1;33m,\u001b[0m\u001b[1;36m5\u001b[0m\u001b[1;33m)\u001b[0m\u001b[1;33m\u001b[0m\u001b[1;33m\u001b[0m\u001b[0m\n\u001b[0;32m     26\u001b[0m \u001b[0mf\u001b[0m\u001b[1;33m.\u001b[0m\u001b[0madd\u001b[0m\u001b[1;33m(\u001b[0m\u001b[1;36m1\u001b[0m\u001b[1;33m,\u001b[0m\u001b[1;36m10\u001b[0m\u001b[1;33m,\u001b[0m\u001b[1;36m3\u001b[0m\u001b[1;33m,\u001b[0m\u001b[1;36m5\u001b[0m\u001b[1;33m)\u001b[0m\u001b[1;33m\u001b[0m\u001b[1;33m\u001b[0m\u001b[0m\n",
      "\u001b[1;31mModuleNotFoundError\u001b[0m: No module named 'fra'"
     ]
    }
   ],
   "source": [
    "#answer 4\n",
    "\n",
    "#fraction user defined\n",
    "#def fr(a,b):\n",
    "#    c=a/b\n",
    "#    print('Fraction is:',c)\n",
    "#def add(a1,b1,c1,d1):\n",
    "#    e1=a1/b1\n",
    "#    f1=c1/d1\n",
    "#    print('Addition:',e1+f1)\n",
    "#def sub(a2,b2,c2,d2):\n",
    "#    e2=a2/b2\n",
    "#    f2=c2/d2\n",
    "#    print('subtraction:',e2-f2)\n",
    "#def mul(a3,b3,c3,d3):\n",
    "#    e3=a3/b3\n",
    "#    f3=c3/d3\n",
    "#    print('Multiplication:',e3*f3)\n",
    "#def div(a4,b4,c4,d4):\n",
    "#    e4=a4/b4\n",
    "#    f4=c4/d4\n",
    "#    print('Division: ',e4/f4)\n",
    "\n",
    "import fra as f\n",
    "f.fr(2,5)\n",
    "f.add(1,10,3,5)\n",
    "f.sub(5,10,1,3)\n",
    "f.mul(3,5,1,3)\n",
    "f.div(2,7,12,35)\n"
   ]
  },
  {
   "cell_type": "code",
   "execution_count": 10,
   "metadata": {},
   "outputs": [
    {
     "name": "stdout",
     "output_type": "stream",
     "text": [
      "True\n"
     ]
    }
   ],
   "source": [
    "# answer 5\n",
    "\n",
    "L1=[1,2,1]\n",
    "L2=[2,1,1]\n",
    "def Permutation(list1,list2):\n",
    "    if len(list1)!= len(list2):\n",
    "         return False;\n",
    "    for i in range(0, len(list1)):\n",
    "           if list1.count(list1[i]) != list2.count(list1[i]):\n",
    "                 return False\n",
    "\n",
    "def islist_permutation(list1,list2):\n",
    "      if (Permutation(list1,list2) == False):\n",
    "        return False \n",
    "      else:\n",
    "        return True\n",
    "\n",
    "print(islist_permutation(L1,L2))\n",
    "\n"
   ]
  },
  {
   "cell_type": "code",
   "execution_count": null,
   "metadata": {},
   "outputs": [],
   "source": []
  }
 ],
 "metadata": {
  "kernelspec": {
   "display_name": "Python 3",
   "language": "python",
   "name": "python3"
  },
  "language_info": {
   "codemirror_mode": {
    "name": "ipython",
    "version": 3
   },
   "file_extension": ".py",
   "mimetype": "text/x-python",
   "name": "python",
   "nbconvert_exporter": "python",
   "pygments_lexer": "ipython3",
   "version": "3.7.4"
  }
 },
 "nbformat": 4,
 "nbformat_minor": 2
}
