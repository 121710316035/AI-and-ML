{
 "cells": [
  {
   "cell_type": "markdown",
   "metadata": {},
   "source": [
    "CSE-121710316035-M.Vineetha"
   ]
  },
  {
   "cell_type": "code",
   "execution_count": 13,
   "metadata": {},
   "outputs": [
    {
     "name": "stdout",
     "output_type": "stream",
     "text": [
      "How many passwords do you want to generate?4\n",
      "Generating4 passwords\n",
      "Minimum length of password should be 3\n",
      "Enter the length of Password #1 5\n",
      "Enter the length of Password #2 7\n",
      "Enter the length of Password #3 8\n",
      "Enter the length of Password #4 10\n"
     ]
    }
   ],
   "source": [
    "#project 1\n",
    "\n",
    "import random\n",
    "\n",
    "def generatePassword(pwlength):\n",
    "    \n",
    "    alphabet =\"abcdefghijklmnopqrstuvwxyz\"\n",
    "    password = []\n",
    "    \n",
    "    for i in pwlength:\n",
    "        password = \"\"\n",
    "        for j in range(i):\n",
    "            next_letter_index=random.randrange(len(alphabet))\n",
    "            password = password + alphabet[next_letter_index]\n",
    "            password = replaceWithNumber(password)\n",
    "            password = replaceWithUppercaseLetter(password)\n",
    "            passwords.append(password)\n",
    "            return passwords\n",
    "        \n",
    "def replaceWithNumber(pword):\n",
    "    for i in range(random.randrange(1,3)):\n",
    "        replace_index = random.randrange(len(pword//2))\n",
    "        pword = pword[0:replace_index] + str(random.randrange(10)) +pword[replace_index+1:]\n",
    "        return pword\n",
    "    \n",
    "def replaceWithUpperCaseLetter(pword):\n",
    "    for i in range(random.randrange(1,3)):\n",
    "        replace_index = random.randrange(len(pword)//2,len(pword))\n",
    "        pword = pword[0:replace_index] + pword[replace_index].upper() + pword[replace_index+1:]\n",
    "        return pword\n",
    "    \n",
    "def main():\n",
    "    \n",
    "    numPasswords = int(input(\"How many passwords do you want to generate?\"))\n",
    "    print(\"Generating\" +str(numPasswords)+\" passwords\")\n",
    "    \n",
    "    passwordLength =[]\n",
    "    print(\"Minimum length of password should be 3\")\n",
    "    for i in range(numPasswords):\n",
    "        length = int(input(\"Enter the length of Password #\" +str(i+1) + \" \"))\n",
    "        if length<3:\n",
    "         length=3\n",
    "         passwordLength.append(length)\n",
    "                     \n",
    "         Password = generatePassword(passwordLengths)\n",
    "         for i in range(numPasswords):\n",
    "             print(\"Password #\"+str(i+1)+\"=\" + Password[i])\n",
    "                     \n",
    "main()                     "
   ]
  },
  {
   "cell_type": "code",
   "execution_count": null,
   "metadata": {},
   "outputs": [],
   "source": [
    "password #1 =x8xmH\n",
    "password #2 =7wdtybI\n",
    "password #3 =a2miNpqu\n",
    "password #4 =wonomofhyN"
   ]
  }
 ],
 "metadata": {
  "kernelspec": {
   "display_name": "Python 3",
   "language": "python",
   "name": "python3"
  },
  "language_info": {
   "codemirror_mode": {
    "name": "ipython",
    "version": 3
   },
   "file_extension": ".py",
   "mimetype": "text/x-python",
   "name": "python",
   "nbconvert_exporter": "python",
   "pygments_lexer": "ipython3",
   "version": "3.7.4"
  }
 },
 "nbformat": 4,
 "nbformat_minor": 2
}
