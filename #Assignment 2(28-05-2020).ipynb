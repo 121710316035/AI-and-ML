{
 "cells": [
  {
   "cell_type": "markdown",
   "metadata": {},
   "source": [
    "#       CSE _ 121710316035 (M.Vineetha)"
   ]
  },
  {
   "cell_type": "code",
   "execution_count": 1,
   "metadata": {},
   "outputs": [
    {
     "name": "stdout",
     "output_type": "stream",
     "text": [
      "Enter the string:aeo1oh$\n",
      "vowels 4\n",
      "consonants: 1\n",
      "symbols: 2\n"
     ]
    }
   ],
   "source": [
    "#answer 1\n",
    "str = input(\"Enter the string:\") \n",
    "vowels = 0\n",
    "consonants = 0\n",
    "symbols = 0\n",
    "str = str.lower()\n",
    "for i in range(0,len(str)):\n",
    "    if(str[i] == 'a' or str[i] == 'e' or str[i] =='i' or str[i] == 'o' or str[i] == 'u'):\n",
    "        vowels = vowels +1\n",
    "    elif((str[i] >= 'a' and str[i]<= 'z')):\n",
    "        consonants=consonants +1\n",
    "    else:\n",
    "        symbols = symbols + 1\n",
    "print(\"vowels\" , vowels)\n",
    "print(\"consonants:\", consonants)\n",
    "print(\"symbols:\",symbols)"
   ]
  },
  {
   "cell_type": "code",
   "execution_count": 1,
   "metadata": {},
   "outputs": [
    {
     "name": "stdout",
     "output_type": "stream",
     "text": [
      "2\n"
     ]
    }
   ],
   "source": [
    "#answer 2\n",
    "\n",
    "str=\"abbaaccbbaaa\"\n",
    "print(str.count(\"aa\"))"
   ]
  },
  {
   "cell_type": "code",
   "execution_count": 2,
   "metadata": {},
   "outputs": [
    {
     "name": "stdout",
     "output_type": "stream",
     "text": [
      "enter()()(())\n",
      "4\n"
     ]
    }
   ],
   "source": [
    "#answer 3\n",
    "\n",
    "str=input(\"enter\")\n",
    "print(str.count(\"(\"))"
   ]
  },
  {
   "cell_type": "code",
   "execution_count": 1,
   "metadata": {},
   "outputs": [
    {
     "name": "stdout",
     "output_type": "stream",
     "text": [
      "enter a1\n",
      "enter b100\n",
      "18\n"
     ]
    }
   ],
   "source": [
    "#answer 4\n",
    "\n",
    "a=int(input(\"enter a\"))\n",
    "b=int(input(\"enter b\"))\n",
    "count=0\n",
    "\n",
    "for i in range(a,b+1):\n",
    "    if str(i) == str(i)[::-1]:\n",
    "        count+=1\n",
    "print(count)\n",
    "            "
   ]
  },
  {
   "cell_type": "code",
   "execution_count": 2,
   "metadata": {},
   "outputs": [
    {
     "name": "stdout",
     "output_type": "stream",
     "text": [
      "127\n",
      "848 is a palindrome\n"
     ]
    }
   ],
   "source": [
    "#answer 5\n",
    "\n",
    "n=int(input())\n",
    "while True :\n",
    "    if str(n) == str(n)[::-1]:\n",
    "        print(str(n)[::-1],\"is a palindrome\")\n",
    "        break\n",
    "    else:\n",
    "        n += int(str(n)[::-1])"
   ]
  },
  {
   "cell_type": "code",
   "execution_count": 2,
   "metadata": {},
   "outputs": [
    {
     "name": "stdout",
     "output_type": "stream",
     "text": [
      "puboif\n"
     ]
    }
   ],
   "source": [
    "#answer 6\n",
    "value = 'orange'\n",
    "var=(chr(ord(value[0])+1))\n",
    "var1=(chr(ord(value[1])+3))\n",
    "var2=(chr(ord(value[2])+1))\n",
    "var3=(chr(ord(value[3])+1))\n",
    "var4=(chr(ord(value[4])+2))\n",
    "var5=(chr(ord(value[5])+1))\n",
    "value=var+var1+var2+var3+var4+var5\n",
    "print(value)\n",
    "      \n",
    "            "
   ]
  },
  {
   "cell_type": "code",
   "execution_count": null,
   "metadata": {},
   "outputs": [],
   "source": [
    "#answer 7\n",
    "n=input('')\n",
    "sum=0\n",
    "for x in n:\n",
    "    if x.isdigit() ==True:\n",
    "            z = int(x)\n",
    "            sum= sum + z"
   ]
  },
  {
   "cell_type": "code",
   "execution_count": 3,
   "metadata": {},
   "outputs": [
    {
     "name": "stdout",
     "output_type": "stream",
     "text": [
      "Enter score between 0.0 and 1.0: 0.85\n",
      "B\n"
     ]
    }
   ],
   "source": [
    "#answer 8\n",
    "score = float(input(\"Enter score between 0.0 and 1.0: \"))\n",
    "if score>1.0 or score<0.0:\n",
    "                        print:(\"error\")\n",
    "elif score>=0.9:\n",
    "            print ('A')\n",
    "elif score>=0.8:\n",
    "            print ('B')\n",
    "elif score>=0.7:\n",
    "            print ('C')\n",
    "elif score>=0.6:\n",
    "            print ('D')\n",
    "else:\n",
    "            print('F')\n",
    "        \n",
    "                "
   ]
  },
  {
   "cell_type": "code",
   "execution_count": 1,
   "metadata": {},
   "outputs": [
    {
     "name": "stdout",
     "output_type": "stream",
     "text": [
      "fizzbuzz\n",
      "1\n",
      "2\n",
      "fizz\n",
      "4\n",
      "buzz\n"
     ]
    }
   ],
   "source": [
    "#answer 9\n",
    "for fizzbuzz in range(6):\n",
    "    if fizzbuzz % 3 ==0 and fizzbuzz % 5 ==0:\n",
    "        print(\"fizzbuzz\")\n",
    "        continue\n",
    "    elif fizzbuzz %3 ==0:\n",
    "        print(\"fizz\")\n",
    "        continue\n",
    "    elif fizzbuzz %5 ==0:\n",
    "        print(\"buzz\")\n",
    "        continue\n",
    "    print(fizzbuzz)"
   ]
  },
  {
   "cell_type": "code",
   "execution_count": 1,
   "metadata": {},
   "outputs": [
    {
     "name": "stdout",
     "output_type": "stream",
     "text": [
      "Input first number:26\n",
      "Input second number15\n",
      "Input third number29\n",
      "The median is 26.0\n"
     ]
    }
   ],
   "source": [
    "#answer 10\n",
    "\n",
    "a = float(input(\"Input first number:\"))\n",
    "b = float(input(\"Input second number\"))\n",
    "c = float(input(\"Input third number\"))\n",
    "if a > b:\n",
    "    if a < c:\n",
    "        median = a\n",
    "    elif b > c:\n",
    "         median = b\n",
    "    else:\n",
    "         median = c\n",
    "else:\n",
    "    if a > c:\n",
    "        median = a\n",
    "    elif b < c:\n",
    "        median = b\n",
    "    else:\n",
    "        median = c\n",
    "print(\"The median is\",median)"
   ]
  },
  {
   "cell_type": "code",
   "execution_count": null,
   "metadata": {},
   "outputs": [],
   "source": []
  },
  {
   "cell_type": "code",
   "execution_count": null,
   "metadata": {},
   "outputs": [],
   "source": []
  },
  {
   "cell_type": "code",
   "execution_count": null,
   "metadata": {},
   "outputs": [],
   "source": []
  },
  {
   "cell_type": "code",
   "execution_count": null,
   "metadata": {},
   "outputs": [],
   "source": []
  }
 ],
 "metadata": {
  "kernelspec": {
   "display_name": "Python 3",
   "language": "python",
   "name": "python3"
  },
  "language_info": {
   "codemirror_mode": {
    "name": "ipython",
    "version": 3
   },
   "file_extension": ".py",
   "mimetype": "text/x-python",
   "name": "python",
   "nbconvert_exporter": "python",
   "pygments_lexer": "ipython3",
   "version": "3.7.4"
  }
 },
 "nbformat": 4,
 "nbformat_minor": 2
}
